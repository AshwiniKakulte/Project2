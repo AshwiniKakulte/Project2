{
 "cells": [
  {
   "cell_type": "markdown",
   "id": "b2bf6226",
   "metadata": {},
   "source": [
    "### 2.COUNTFREQUENCY\n",
    "\n",
    "Write a program that takes a string as input,and counts the frequency of each word in the string, there might be repeated characters in the string. \n",
    "\n",
    "Your task is to find the highest frequency and returns the length\n",
    "of the highest-frequency word"
   ]
  },
  {
   "cell_type": "code",
   "execution_count": 4,
   "id": "da75fca3",
   "metadata": {},
   "outputs": [
    {
     "name": "stdout",
     "output_type": "stream",
     "text": [
      "Enter a string: write write write all the number from from from 1 to 100\n",
      "Length of the word with the highest frequency: 5\n"
     ]
    }
   ],
   "source": [
    "def get_length_of_highest_frequency_word():\n",
    "    # Get user input for the string\n",
    "    string = input(\"Enter a string: \")\n",
    "\n",
    "    # Split the string into individual words\n",
    "    words = string.split()\n",
    "\n",
    "    # Create a dictionary to store the word frequencies\n",
    "    word_counts = {}\n",
    "\n",
    "    # Count the frequency of each word\n",
    "    for word in words:\n",
    "        if word in word_counts:\n",
    "            word_counts[word] += 1\n",
    "        else:\n",
    "            word_counts[word] = 1\n",
    "\n",
    "    # Find the highest frequency\n",
    "    max_frequency = max(word_counts.values())\n",
    "\n",
    "    # Find the length of the word with the highest frequency\n",
    "    highest_frequency_word = [word for word, count in word_counts.items() if count == max_frequency]\n",
    "    highest_frequency_length = len(highest_frequency_word[0])\n",
    "\n",
    "    return highest_frequency_length\n",
    "\n",
    "# Call the function and print the result\n",
    "result = get_length_of_highest_frequency_word()\n",
    "print(\"Length of the word with the highest frequency:\", result)"
   ]
  },
  {
   "cell_type": "code",
   "execution_count": null,
   "id": "69ec04e1",
   "metadata": {},
   "outputs": [],
   "source": []
  }
 ],
 "metadata": {
  "kernelspec": {
   "display_name": "Python 3 (ipykernel)",
   "language": "python",
   "name": "python3"
  },
  "language_info": {
   "codemirror_mode": {
    "name": "ipython",
    "version": 3
   },
   "file_extension": ".py",
   "mimetype": "text/x-python",
   "name": "python",
   "nbconvert_exporter": "python",
   "pygments_lexer": "ipython3",
   "version": "3.9.13"
  }
 },
 "nbformat": 4,
 "nbformat_minor": 5
}
